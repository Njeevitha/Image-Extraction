{
  "nbformat": 4,
  "nbformat_minor": 0,
  "metadata": {
    "colab": {
      "provenance": []
    },
    "kernelspec": {
      "name": "python3",
      "display_name": "Python 3"
    },
    "language_info": {
      "name": "python"
    }
  },
  "cells": [
    {
      "cell_type": "code",
      "metadata": {
        "id": "6aoRYnpJ1dt7",
        "colab": {
          "base_uri": "https://localhost:8080/"
        },
        "outputId": "f2e76300-972e-4dfe-9b60-37aab26d0d5f"
      },
      "source": [
        "from google.colab import drive\n",
        "drive.mount('drive')\n",
        "DrivPath='drive/My Drive/sample_data/'"
      ],
      "execution_count": 2,
      "outputs": [
        {
          "output_type": "stream",
          "name": "stdout",
          "text": [
            "Mounted at drive\n"
          ]
        }
      ]
    },
    {
      "cell_type": "code",
      "metadata": {
        "id": "cByWRG0x1gae"
      },
      "source": [
        "import io\n",
        "import pandas as pd\n",
        "import numpy as np\n",
        "import csv\n",
        "import urllib.request\n",
        "import requests\n",
        "import os\n",
        "import shutil\n",
        "import cv2\n",
        "df = pd.read_csv(DrivPath+'ALL1000.csv') # path can be changed"
      ],
      "execution_count": 3,
      "outputs": []
    },
    {
      "cell_type": "code",
      "metadata": {
        "id": "q0ariVRV11_g",
        "collapsed": true
      },
      "source": [
        "df"
      ],
      "execution_count": null,
      "outputs": []
    },
    {
      "cell_type": "code",
      "metadata": {
        "id": "h2FScIet124P"
      },
      "source": [
        "src_path = DrivPath # path can be changed\n",
        "\n",
        "# create master folder\n",
        "\n",
        "if not os.path.exists(os.path.join(src_path,'img_download')):\n",
        "    os.mkdir(os.path.join(src_path,'img_download'))\n",
        "\n",
        "dest_path = src_path+'img_download'\n",
        "\n",
        "\n",
        "#create sub folder for each note\n",
        "sb = df.isbn.unique()\n",
        "for u in sb:\n",
        "  os.mkdir(os.path.join(dest_path,str(u)))"
      ],
      "execution_count": null,
      "outputs": []
    },
    {
      "cell_type": "code",
      "metadata": {
        "id": "TAjPBrp2182k"
      },
      "source": [
        "requests.adapters.DEFAULT_RETRIES = 5\n",
        "\n",
        "s = requests.session()\n",
        "\n",
        "s.keep_alive = True"
      ],
      "execution_count": null,
      "outputs": []
    },
    {
      "cell_type": "code",
      "metadata": {
        "id": "nUDp-nls2EKP"
      },
      "source": [
        "#iterating through notes\n",
        "errors_403=[]\n",
        "errors_404=[]\n",
        "for i in df.index:\n",
        "  url = df.media_url[i]\n",
        "  id= df.isbn[i]\n",
        "  save_name = str(str(df.isbn[i])+'_'+str(df.product_media_id[i]))\n",
        "  path= dest_path+'/'+str(df.isbn[i])+'/'+ save_name\n",
        "  response= requests.get(url,verify=False)\n",
        "  if response.status_code==200:\n",
        "    try:\n",
        "      res= urllib.request.urlretrieve(url, path)\n",
        "      print('Image sucessfully Downloaded: ',save_name)\n",
        "    except urllib.error.HTTPError as e:\n",
        "      if e.code in (..., 403, ...):\n",
        "        errors_403.append(df.product_media_id[i])\n",
        "        print('403 error captured')\n",
        "        continue;\n",
        "  else:\n",
        "    print('Error opening url')\n",
        "    errors_404.append(df.product_media_id[i])\n",
        "    continue;"
      ],
      "execution_count": null,
      "outputs": []
    },
    {
      "cell_type": "code",
      "metadata": {
        "id": "qikoPxB046j_"
      },
      "source": [
        "errors_403 #get the URL 403 error"
      ],
      "execution_count": null,
      "outputs": []
    },
    {
      "cell_type": "code",
      "metadata": {
        "id": "zZIDY2xl47Ju"
      },
      "source": [
        "errors_404 #get the URL 404 error"
      ],
      "execution_count": null,
      "outputs": []
    }
  ]
}